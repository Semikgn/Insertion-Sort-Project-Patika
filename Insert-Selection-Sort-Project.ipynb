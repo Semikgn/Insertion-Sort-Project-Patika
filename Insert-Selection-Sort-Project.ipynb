{
 "cells": [
  {
   "cell_type": "code",
   "execution_count": 2,
   "id": "e7dbaee7-4727-4400-96a1-5da364477a5b",
   "metadata": {},
   "outputs": [],
   "source": [
    "def main():\n",
    "    print(\"Insertion Sort ve Selection Sort, yorum satırındadır.\")\n",
    "    \n",
    "#1. Sort\n",
    "#[22,27,16,2,18,6] -> Insertion Sort look for smallest num\n",
    "#smallest num = 2\n",
    "    \n",
    "#22 --> swap with 2 --> [2,27,16,22,18,6]\n",
    "#27 --> swap with 6 --> [2,6,16,22,18,27]\n",
    "#22 --> swap with 18 --> [2,6,16,18,22,27] \n",
    "\n",
    "#2. Big-O Notation \n",
    "# Average Case:O(n^2)\n",
    "# Worst Case:O(n^2)\n",
    "#Best Case: 1 (Already sorted)\n",
    "\n",
    "#3.Time Complexity for 18\n",
    "#Dizi sıralandıktan sonra; [2,6,16,18,22,27] 18 dizinin ortasındadır. Bu nedenle \"Average Case\" olur.\n",
    "\n",
    "#4 Selection Sort\n",
    "#[7,3,5,8,2,9,4,15,6] -> Selection Sort Look for smallest num and swap with first item\n",
    "\n",
    "#smallest num = 2 and swapped with 7 [2,3,5,8,7,9,4,15,6] Step 1\n",
    "#smallest num = 4 and swapped with 5 [2,3,4,8,7,9,5,15,6] Step 2\n",
    "#smallest num = 5 and swapped with 8 [2,3,4,5,7,9,8,15,6] Step 3\n",
    "#smallest num = 6 and swapped with 7 [2,3,4,5,6,9,8,15,7] Step 4"
   ]
  },
  {
   "cell_type": "code",
   "execution_count": null,
   "id": "724161a6-b192-42f1-8349-7aa2aefff4fe",
   "metadata": {},
   "outputs": [],
   "source": []
  }
 ],
 "metadata": {
  "kernelspec": {
   "display_name": "Python 3 (ipykernel)",
   "language": "python",
   "name": "python3"
  },
  "language_info": {
   "codemirror_mode": {
    "name": "ipython",
    "version": 3
   },
   "file_extension": ".py",
   "mimetype": "text/x-python",
   "name": "python",
   "nbconvert_exporter": "python",
   "pygments_lexer": "ipython3",
   "version": "3.13.0"
  }
 },
 "nbformat": 4,
 "nbformat_minor": 5
}
